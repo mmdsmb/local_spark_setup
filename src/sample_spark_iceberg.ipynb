{
 "cells": [
  {
   "cell_type": "code",
   "execution_count": 1,
   "id": "d4e81724",
   "metadata": {},
   "outputs": [
    {
     "name": "stderr",
     "output_type": "stream",
     "text": [
      "Setting default log level to \"WARN\".\n",
      "To adjust logging level use sc.setLogLevel(newLevel). For SparkR, use setLogLevel(newLevel).\n",
      "25/08/29 19:52:29 WARN NativeCodeLoader: Unable to load native-hadoop library for your platform... using builtin-java classes where applicable\n",
      "25/08/29 19:52:29 WARN Utils: Service 'SparkUI' could not bind on port 4040. Attempting port 4041.\n"
     ]
    }
   ],
   "source": [
    "# Create a Spark Session\n",
    "from pyspark.sql import SparkSession\n",
    "spark = (\n",
    "        SparkSession.builder.appName(\"Jupyter Sample Application\")\n",
    "        .getOrCreate()\n",
    "    )\n",
    "    "
   ]
  },
  {
   "cell_type": "code",
   "execution_count": 3,
   "id": "74b40388",
   "metadata": {},
   "outputs": [
    {
     "name": "stdout",
     "output_type": "stream",
     "text": [
      "+---+\n",
      "|  1|\n",
      "+---+\n",
      "|  1|\n",
      "+---+\n",
      "\n"
     ]
    }
   ],
   "source": [
    "# Run Spark SQL \n",
    "spark.sql(\"select 1\").show()"
   ]
  },
  {
   "cell_type": "markdown",
   "id": "79114588",
   "metadata": {},
   "source": [
    "We can  also run Spark SQL directly with the `%%sql` magic."
   ]
  },
  {
   "cell_type": "code",
   "execution_count": 4,
   "id": "453bc433",
   "metadata": {},
   "outputs": [
    {
     "name": "stderr",
     "output_type": "stream",
     "text": [
      "25/08/29 18:43:29 WARN SparkSession: Using an existing Spark session; only runtime SQL configurations will take effect.\n"
     ]
    },
    {
     "data": {
      "text/html": [
       "<table>\n",
       "    <thead>\n",
       "        <tr>\n",
       "            <th>1</th>\n",
       "        </tr>\n",
       "    </thead>\n",
       "    <tbody>\n",
       "        <tr>\n",
       "            <td>1</td>\n",
       "        </tr>\n",
       "    </tbody>\n",
       "</table>"
      ],
      "text/plain": [
       "+---+\n",
       "| 1 |\n",
       "+---+\n",
       "| 1 |\n",
       "+---+"
      ]
     },
     "execution_count": 4,
     "metadata": {},
     "output_type": "execute_result"
    }
   ],
   "source": [
    "%%sql\n",
    "select 1"
   ]
  },
  {
   "cell_type": "code",
   "execution_count": 5,
   "id": "53785ec1",
   "metadata": {},
   "outputs": [
    {
     "data": {
      "text/html": [
       "<table>\n",
       "    <thead>\n",
       "        <tr>\n",
       "            <th>namespace</th>\n",
       "        </tr>\n",
       "    </thead>\n",
       "    <tbody>\n",
       "    </tbody>\n",
       "</table>"
      ],
      "text/plain": [
       "+-----------+\n",
       "| namespace |\n",
       "+-----------+\n",
       "+-----------+"
      ]
     },
     "execution_count": 5,
     "metadata": {},
     "output_type": "execute_result"
    }
   ],
   "source": [
    "%%sql\n",
    "show schemas;"
   ]
  },
  {
   "cell_type": "markdown",
   "id": "6d7b6937",
   "metadata": {},
   "source": [
    "Let's create a schema and a table."
   ]
  },
  {
   "cell_type": "code",
   "execution_count": 6,
   "id": "b7100070",
   "metadata": {},
   "outputs": [
    {
     "data": {
      "text/html": [
       "<table>\n",
       "    <thead>\n",
       "        <tr>\n",
       "        </tr>\n",
       "    </thead>\n",
       "    <tbody>\n",
       "    </tbody>\n",
       "</table>"
      ],
      "text/plain": [
       "++\n",
       "||\n",
       "++\n",
       "++"
      ]
     },
     "execution_count": 6,
     "metadata": {},
     "output_type": "execute_result"
    }
   ],
   "source": [
    "%%sql\n",
    "create schema sample;"
   ]
  },
  {
   "cell_type": "code",
   "execution_count": 7,
   "id": "bb2e16d5",
   "metadata": {},
   "outputs": [
    {
     "data": {
      "text/html": [
       "<table>\n",
       "    <thead>\n",
       "        <tr>\n",
       "        </tr>\n",
       "    </thead>\n",
       "    <tbody>\n",
       "    </tbody>\n",
       "</table>"
      ],
      "text/plain": [
       "++\n",
       "||\n",
       "++\n",
       "++"
      ]
     },
     "execution_count": 7,
     "metadata": {},
     "output_type": "execute_result"
    }
   ],
   "source": [
    "%%sql\n",
    "create table sample.employee (\n",
    "    id integer,\n",
    "    name string\n",
    ")"
   ]
  },
  {
   "cell_type": "code",
   "execution_count": 8,
   "id": "aabbef86",
   "metadata": {},
   "outputs": [
    {
     "data": {
      "text/html": [
       "<table>\n",
       "    <thead>\n",
       "        <tr>\n",
       "            <th>col_name</th>\n",
       "            <th>data_type</th>\n",
       "            <th>comment</th>\n",
       "        </tr>\n",
       "    </thead>\n",
       "    <tbody>\n",
       "        <tr>\n",
       "            <td>id</td>\n",
       "            <td>int</td>\n",
       "            <td>None</td>\n",
       "        </tr>\n",
       "        <tr>\n",
       "            <td>name</td>\n",
       "            <td>string</td>\n",
       "            <td>None</td>\n",
       "        </tr>\n",
       "        <tr>\n",
       "            <td></td>\n",
       "            <td></td>\n",
       "            <td></td>\n",
       "        </tr>\n",
       "        <tr>\n",
       "            <td># Metadata Columns</td>\n",
       "            <td></td>\n",
       "            <td></td>\n",
       "        </tr>\n",
       "        <tr>\n",
       "            <td>_spec_id</td>\n",
       "            <td>int</td>\n",
       "            <td></td>\n",
       "        </tr>\n",
       "        <tr>\n",
       "            <td>_partition</td>\n",
       "            <td>struct&lt;&gt;</td>\n",
       "            <td></td>\n",
       "        </tr>\n",
       "        <tr>\n",
       "            <td>_file</td>\n",
       "            <td>string</td>\n",
       "            <td></td>\n",
       "        </tr>\n",
       "        <tr>\n",
       "            <td>_pos</td>\n",
       "            <td>bigint</td>\n",
       "            <td></td>\n",
       "        </tr>\n",
       "        <tr>\n",
       "            <td>_deleted</td>\n",
       "            <td>boolean</td>\n",
       "            <td></td>\n",
       "        </tr>\n",
       "        <tr>\n",
       "            <td></td>\n",
       "            <td></td>\n",
       "            <td></td>\n",
       "        </tr>\n",
       "        <tr>\n",
       "            <td># Detailed Table Information</td>\n",
       "            <td></td>\n",
       "            <td></td>\n",
       "        </tr>\n",
       "        <tr>\n",
       "            <td>Name</td>\n",
       "            <td>demo.sample.employee</td>\n",
       "            <td></td>\n",
       "        </tr>\n",
       "        <tr>\n",
       "            <td>Type</td>\n",
       "            <td>MANAGED</td>\n",
       "            <td></td>\n",
       "        </tr>\n",
       "        <tr>\n",
       "            <td>Location</td>\n",
       "            <td>s3://warehouse/sample/employee</td>\n",
       "            <td></td>\n",
       "        </tr>\n",
       "        <tr>\n",
       "            <td>Provider</td>\n",
       "            <td>iceberg</td>\n",
       "            <td></td>\n",
       "        </tr>\n",
       "        <tr>\n",
       "            <td>Owner</td>\n",
       "            <td>root</td>\n",
       "            <td></td>\n",
       "        </tr>\n",
       "        <tr>\n",
       "            <td>Table Properties</td>\n",
       "            <td>[current-snapshot-id=none,format=iceberg/parquet,format-version=2,write.parquet.compression-codec=zstd]</td>\n",
       "            <td></td>\n",
       "        </tr>\n",
       "    </tbody>\n",
       "</table>"
      ],
      "text/plain": [
       "+------------------------------+---------------------------------------------------------------------------------------------------------+---------+\n",
       "|                     col_name |                                                                                               data_type | comment |\n",
       "+------------------------------+---------------------------------------------------------------------------------------------------------+---------+\n",
       "|                           id |                                                                                                     int |    None |\n",
       "|                         name |                                                                                                  string |    None |\n",
       "|                              |                                                                                                         |         |\n",
       "|           # Metadata Columns |                                                                                                         |         |\n",
       "|                     _spec_id |                                                                                                     int |         |\n",
       "|                   _partition |                                                                                                struct<> |         |\n",
       "|                        _file |                                                                                                  string |         |\n",
       "|                         _pos |                                                                                                  bigint |         |\n",
       "|                     _deleted |                                                                                                 boolean |         |\n",
       "|                              |                                                                                                         |         |\n",
       "| # Detailed Table Information |                                                                                                         |         |\n",
       "|                         Name |                                                                                    demo.sample.employee |         |\n",
       "|                         Type |                                                                                                 MANAGED |         |\n",
       "|                     Location |                                                                          s3://warehouse/sample/employee |         |\n",
       "|                     Provider |                                                                                                 iceberg |         |\n",
       "|                        Owner |                                                                                                    root |         |\n",
       "|             Table Properties | [current-snapshot-id=none,format=iceberg/parquet,format-version=2,write.parquet.compression-codec=zstd] |         |\n",
       "+------------------------------+---------------------------------------------------------------------------------------------------------+---------+"
      ]
     },
     "execution_count": 8,
     "metadata": {},
     "output_type": "execute_result"
    }
   ],
   "source": [
    "%%sql\n",
    "describe extended sample.employee;"
   ]
  },
  {
   "cell_type": "markdown",
   "id": "ba456ff8",
   "metadata": {},
   "source": [
    "We can see from the `Table Properties` that this table is of the `iceberg` format. Let's insert some data."
   ]
  },
  {
   "cell_type": "code",
   "execution_count": 9,
   "id": "a13da6d9",
   "metadata": {},
   "outputs": [
    {
     "name": "stderr",
     "output_type": "stream",
     "text": [
      "                                                                                \r"
     ]
    },
    {
     "data": {
      "text/html": [
       "<table>\n",
       "    <thead>\n",
       "        <tr>\n",
       "        </tr>\n",
       "    </thead>\n",
       "    <tbody>\n",
       "    </tbody>\n",
       "</table>"
      ],
      "text/plain": [
       "++\n",
       "||\n",
       "++\n",
       "++"
      ]
     },
     "execution_count": 9,
     "metadata": {},
     "output_type": "execute_result"
    }
   ],
   "source": [
    "%%sql\n",
    "INSERT INTO sample.employee VALUES \n",
    "  (1, 'John Smith'),\n",
    "  (2, 'Sarah Johnson'),\n",
    "  (3, 'Mike Davis');"
   ]
  },
  {
   "cell_type": "code",
   "execution_count": 11,
   "id": "339eb53f",
   "metadata": {},
   "outputs": [
    {
     "data": {
      "text/html": [
       "<table>\n",
       "    <thead>\n",
       "        <tr>\n",
       "            <th>id</th>\n",
       "            <th>name</th>\n",
       "        </tr>\n",
       "    </thead>\n",
       "    <tbody>\n",
       "        <tr>\n",
       "            <td>1</td>\n",
       "            <td>John Smith</td>\n",
       "        </tr>\n",
       "        <tr>\n",
       "            <td>2</td>\n",
       "            <td>Sarah Johnson</td>\n",
       "        </tr>\n",
       "        <tr>\n",
       "            <td>3</td>\n",
       "            <td>Mike Davis</td>\n",
       "        </tr>\n",
       "    </tbody>\n",
       "</table>"
      ],
      "text/plain": [
       "+----+---------------+\n",
       "| id |          name |\n",
       "+----+---------------+\n",
       "|  1 |    John Smith |\n",
       "|  2 | Sarah Johnson |\n",
       "|  3 |    Mike Davis |\n",
       "+----+---------------+"
      ]
     },
     "execution_count": 11,
     "metadata": {},
     "output_type": "execute_result"
    }
   ],
   "source": [
    "%%sql\n",
    "select * from sample.employee;"
   ]
  },
  {
   "cell_type": "markdown",
   "id": "92361a98",
   "metadata": {},
   "source": [
    "If you open minio in your browser by opening [localhost:9001](http://localhost:9001) and login with username: admin and password: password you will be able to see the table data."
   ]
  },
  {
   "cell_type": "code",
   "execution_count": 3,
   "id": "543d77c0",
   "metadata": {},
   "outputs": [
    {
     "data": {
      "text/html": [
       "<table>\n",
       "    <thead>\n",
       "        <tr>\n",
       "            <th>employee_id</th>\n",
       "            <th>name</th>\n",
       "            <th>department</th>\n",
       "            <th>salary</th>\n",
       "            <th>experience_years</th>\n",
       "            <th>hire_date</th>\n",
       "            <th>experience_level</th>\n",
       "        </tr>\n",
       "    </thead>\n",
       "    <tbody>\n",
       "        <tr>\n",
       "            <td>1</td>\n",
       "            <td>Alice Johnson</td>\n",
       "            <td>Engineering</td>\n",
       "            <td>85000.0</td>\n",
       "            <td>3</td>\n",
       "            <td>2021-03-15</td>\n",
       "            <td>Mid-level</td>\n",
       "        </tr>\n",
       "        <tr>\n",
       "            <td>2</td>\n",
       "            <td>Bob Smith</td>\n",
       "            <td>Marketing</td>\n",
       "            <td>65000.0</td>\n",
       "            <td>2</td>\n",
       "            <td>2022-01-10</td>\n",
       "            <td>Mid-level</td>\n",
       "        </tr>\n",
       "        <tr>\n",
       "            <td>3</td>\n",
       "            <td>Carol Williams</td>\n",
       "            <td>Engineering</td>\n",
       "            <td>95000.0</td>\n",
       "            <td>5</td>\n",
       "            <td>2019-08-20</td>\n",
       "            <td>Senior</td>\n",
       "        </tr>\n",
       "        <tr>\n",
       "            <td>4</td>\n",
       "            <td>David Brown</td>\n",
       "            <td>Sales</td>\n",
       "            <td>55000.0</td>\n",
       "            <td>1</td>\n",
       "            <td>2023-02-28</td>\n",
       "            <td>Junior</td>\n",
       "        </tr>\n",
       "        <tr>\n",
       "            <td>5</td>\n",
       "            <td>Eva Martinez</td>\n",
       "            <td>Engineering</td>\n",
       "            <td>78000.0</td>\n",
       "            <td>2</td>\n",
       "            <td>2022-06-01</td>\n",
       "            <td>Mid-level</td>\n",
       "        </tr>\n",
       "        <tr>\n",
       "            <td>6</td>\n",
       "            <td>Frank Wilson</td>\n",
       "            <td>Marketing</td>\n",
       "            <td>72000.0</td>\n",
       "            <td>4</td>\n",
       "            <td>2020-11-12</td>\n",
       "            <td>Senior</td>\n",
       "        </tr>\n",
       "        <tr>\n",
       "            <td>7</td>\n",
       "            <td>Grace Lee</td>\n",
       "            <td>Sales</td>\n",
       "            <td>62000.0</td>\n",
       "            <td>3</td>\n",
       "            <td>2021-09-05</td>\n",
       "            <td>Mid-level</td>\n",
       "        </tr>\n",
       "        <tr>\n",
       "            <td>8</td>\n",
       "            <td>Henry Davis</td>\n",
       "            <td>Engineering</td>\n",
       "            <td>88000.0</td>\n",
       "            <td>4</td>\n",
       "            <td>2020-04-18</td>\n",
       "            <td>Senior</td>\n",
       "        </tr>\n",
       "        <tr>\n",
       "            <td>9</td>\n",
       "            <td>Ivy Chen</td>\n",
       "            <td>Marketing</td>\n",
       "            <td>68000.0</td>\n",
       "            <td>2</td>\n",
       "            <td>2022-03-22</td>\n",
       "            <td>Mid-level</td>\n",
       "        </tr>\n",
       "        <tr>\n",
       "            <td>10</td>\n",
       "            <td>Jack Thompson</td>\n",
       "            <td>Sales</td>\n",
       "            <td>58000.0</td>\n",
       "            <td>1</td>\n",
       "            <td>2023-01-15</td>\n",
       "            <td>Junior</td>\n",
       "        </tr>\n",
       "    </tbody>\n",
       "</table>"
      ],
      "text/plain": [
       "+-------------+----------------+-------------+---------+------------------+------------+------------------+\n",
       "| employee_id |           name |  department |  salary | experience_years |  hire_date | experience_level |\n",
       "+-------------+----------------+-------------+---------+------------------+------------+------------------+\n",
       "|           1 |  Alice Johnson | Engineering | 85000.0 |                3 | 2021-03-15 |        Mid-level |\n",
       "|           2 |      Bob Smith |   Marketing | 65000.0 |                2 | 2022-01-10 |        Mid-level |\n",
       "|           3 | Carol Williams | Engineering | 95000.0 |                5 | 2019-08-20 |           Senior |\n",
       "|           4 |    David Brown |       Sales | 55000.0 |                1 | 2023-02-28 |           Junior |\n",
       "|           5 |   Eva Martinez | Engineering | 78000.0 |                2 | 2022-06-01 |        Mid-level |\n",
       "|           6 |   Frank Wilson |   Marketing | 72000.0 |                4 | 2020-11-12 |           Senior |\n",
       "|           7 |      Grace Lee |       Sales | 62000.0 |                3 | 2021-09-05 |        Mid-level |\n",
       "|           8 |    Henry Davis | Engineering | 88000.0 |                4 | 2020-04-18 |           Senior |\n",
       "|           9 |       Ivy Chen |   Marketing | 68000.0 |                2 | 2022-03-22 |        Mid-level |\n",
       "|          10 |  Jack Thompson |       Sales | 58000.0 |                1 | 2023-01-15 |           Junior |\n",
       "+-------------+----------------+-------------+---------+------------------+------------+------------------+"
      ]
     },
     "execution_count": 3,
     "metadata": {},
     "output_type": "execute_result"
    }
   ],
   "source": [
    "%%sql\n",
    "select * from sample_db.employees;"
   ]
  },
  {
   "cell_type": "code",
   "execution_count": 4,
   "id": "cc41dd4f",
   "metadata": {},
   "outputs": [
    {
     "name": "stdout",
     "output_type": "stream",
     "text": [
      "+-----------+--------------+-----------+-------+----------------+----------+----------------+\n",
      "|employee_id|          name| department| salary|experience_years| hire_date|experience_level|\n",
      "+-----------+--------------+-----------+-------+----------------+----------+----------------+\n",
      "|          1| Alice Johnson|Engineering|85000.0|               3|2021-03-15|       Mid-level|\n",
      "|          2|     Bob Smith|  Marketing|65000.0|               2|2022-01-10|       Mid-level|\n",
      "|          3|Carol Williams|Engineering|95000.0|               5|2019-08-20|          Senior|\n",
      "|          4|   David Brown|      Sales|55000.0|               1|2023-02-28|          Junior|\n",
      "|          5|  Eva Martinez|Engineering|78000.0|               2|2022-06-01|       Mid-level|\n",
      "|          6|  Frank Wilson|  Marketing|72000.0|               4|2020-11-12|          Senior|\n",
      "|          7|     Grace Lee|      Sales|62000.0|               3|2021-09-05|       Mid-level|\n",
      "|          8|   Henry Davis|Engineering|88000.0|               4|2020-04-18|          Senior|\n",
      "|          9|      Ivy Chen|  Marketing|68000.0|               2|2022-03-22|       Mid-level|\n",
      "|         10| Jack Thompson|      Sales|58000.0|               1|2023-01-15|          Junior|\n",
      "+-----------+--------------+-----------+-------+----------------+----------+----------------+\n",
      "\n"
     ]
    }
   ],
   "source": [
    "spark.table(\"sample_db.employees\").show()"
   ]
  },
  {
   "cell_type": "code",
   "execution_count": 5,
   "id": "73a029c6",
   "metadata": {},
   "outputs": [
    {
     "data": {
      "text/html": [
       "<table>\n",
       "    <thead>\n",
       "        <tr>\n",
       "            <th>col_name</th>\n",
       "            <th>data_type</th>\n",
       "            <th>comment</th>\n",
       "        </tr>\n",
       "    </thead>\n",
       "    <tbody>\n",
       "        <tr>\n",
       "            <td>employee_id</td>\n",
       "            <td>int</td>\n",
       "            <td>None</td>\n",
       "        </tr>\n",
       "        <tr>\n",
       "            <td>name</td>\n",
       "            <td>string</td>\n",
       "            <td>None</td>\n",
       "        </tr>\n",
       "        <tr>\n",
       "            <td>department</td>\n",
       "            <td>string</td>\n",
       "            <td>None</td>\n",
       "        </tr>\n",
       "        <tr>\n",
       "            <td>salary</td>\n",
       "            <td>double</td>\n",
       "            <td>None</td>\n",
       "        </tr>\n",
       "        <tr>\n",
       "            <td>experience_years</td>\n",
       "            <td>int</td>\n",
       "            <td>None</td>\n",
       "        </tr>\n",
       "        <tr>\n",
       "            <td>hire_date</td>\n",
       "            <td>date</td>\n",
       "            <td>None</td>\n",
       "        </tr>\n",
       "        <tr>\n",
       "            <td>experience_level</td>\n",
       "            <td>string</td>\n",
       "            <td>None</td>\n",
       "        </tr>\n",
       "        <tr>\n",
       "            <td></td>\n",
       "            <td></td>\n",
       "            <td></td>\n",
       "        </tr>\n",
       "        <tr>\n",
       "            <td># Metadata Columns</td>\n",
       "            <td></td>\n",
       "            <td></td>\n",
       "        </tr>\n",
       "        <tr>\n",
       "            <td>_spec_id</td>\n",
       "            <td>int</td>\n",
       "            <td></td>\n",
       "        </tr>\n",
       "        <tr>\n",
       "            <td>_partition</td>\n",
       "            <td>struct&lt;&gt;</td>\n",
       "            <td></td>\n",
       "        </tr>\n",
       "        <tr>\n",
       "            <td>_file</td>\n",
       "            <td>string</td>\n",
       "            <td></td>\n",
       "        </tr>\n",
       "        <tr>\n",
       "            <td>_pos</td>\n",
       "            <td>bigint</td>\n",
       "            <td></td>\n",
       "        </tr>\n",
       "        <tr>\n",
       "            <td>_deleted</td>\n",
       "            <td>boolean</td>\n",
       "            <td></td>\n",
       "        </tr>\n",
       "        <tr>\n",
       "            <td></td>\n",
       "            <td></td>\n",
       "            <td></td>\n",
       "        </tr>\n",
       "        <tr>\n",
       "            <td># Detailed Table Information</td>\n",
       "            <td></td>\n",
       "            <td></td>\n",
       "        </tr>\n",
       "        <tr>\n",
       "            <td>Name</td>\n",
       "            <td>demo.sample_db.employees</td>\n",
       "            <td></td>\n",
       "        </tr>\n",
       "        <tr>\n",
       "            <td>Type</td>\n",
       "            <td>MANAGED</td>\n",
       "            <td></td>\n",
       "        </tr>\n",
       "        <tr>\n",
       "            <td>Location</td>\n",
       "            <td>s3://warehouse/sample_db/employees</td>\n",
       "            <td></td>\n",
       "        </tr>\n",
       "        <tr>\n",
       "            <td>Provider</td>\n",
       "            <td>iceberg</td>\n",
       "            <td></td>\n",
       "        </tr>\n",
       "        <tr>\n",
       "            <td>Owner</td>\n",
       "            <td>root</td>\n",
       "            <td></td>\n",
       "        </tr>\n",
       "        <tr>\n",
       "            <td>Table Properties</td>\n",
       "            <td>[created-at=2025-08-29T19:31:09.075185462Z,current-snapshot-id=6006498447171045242,format=iceberg/parquet,format-version=2,write.parquet.compression-codec=zstd]</td>\n",
       "            <td></td>\n",
       "        </tr>\n",
       "    </tbody>\n",
       "</table>"
      ],
      "text/plain": [
       "+------------------------------+------------------------------------------------------------------------------------------------------------------------------------------------------------------+---------+\n",
       "|                     col_name |                                                                                                                                                        data_type | comment |\n",
       "+------------------------------+------------------------------------------------------------------------------------------------------------------------------------------------------------------+---------+\n",
       "|                  employee_id |                                                                                                                                                              int |    None |\n",
       "|                         name |                                                                                                                                                           string |    None |\n",
       "|                   department |                                                                                                                                                           string |    None |\n",
       "|                       salary |                                                                                                                                                           double |    None |\n",
       "|             experience_years |                                                                                                                                                              int |    None |\n",
       "|                    hire_date |                                                                                                                                                             date |    None |\n",
       "|             experience_level |                                                                                                                                                           string |    None |\n",
       "|                              |                                                                                                                                                                  |         |\n",
       "|           # Metadata Columns |                                                                                                                                                                  |         |\n",
       "|                     _spec_id |                                                                                                                                                              int |         |\n",
       "|                   _partition |                                                                                                                                                         struct<> |         |\n",
       "|                        _file |                                                                                                                                                           string |         |\n",
       "|                         _pos |                                                                                                                                                           bigint |         |\n",
       "|                     _deleted |                                                                                                                                                          boolean |         |\n",
       "|                              |                                                                                                                                                                  |         |\n",
       "| # Detailed Table Information |                                                                                                                                                                  |         |\n",
       "|                         Name |                                                                                                                                         demo.sample_db.employees |         |\n",
       "|                         Type |                                                                                                                                                          MANAGED |         |\n",
       "|                     Location |                                                                                                                               s3://warehouse/sample_db/employees |         |\n",
       "|                     Provider |                                                                                                                                                          iceberg |         |\n",
       "|                        Owner |                                                                                                                                                             root |         |\n",
       "|             Table Properties | [created-at=2025-08-29T19:31:09.075185462Z,current-snapshot-id=6006498447171045242,format=iceberg/parquet,format-version=2,write.parquet.compression-codec=zstd] |         |\n",
       "+------------------------------+------------------------------------------------------------------------------------------------------------------------------------------------------------------+---------+"
      ]
     },
     "execution_count": 5,
     "metadata": {},
     "output_type": "execute_result"
    }
   ],
   "source": [
    "%%sql\n",
    "describe extended sample_db.employees;\n"
   ]
  },
  {
   "cell_type": "code",
   "execution_count": 40,
   "id": "eede0371",
   "metadata": {},
   "outputs": [
    {
     "name": "stdout",
     "output_type": "stream",
     "text": [
      "Snapshot ID: 1163501592288989464, Timestamp: 2025-08-29 19:31:10.113000, Operation: append\n",
      "Snapshot ID: 6006498447171045242, Timestamp: 2025-08-29 19:32:11.434000, Operation: append\n"
     ]
    }
   ],
   "source": [
    "snapshots = spark.sql(\"SELECT * FROM demo.sample_db.employees.snapshots\").collect()\n",
    "\n",
    "for s in snapshots:\n",
    "    print(f\"Snapshot ID: {s.snapshot_id}, Timestamp: {s.committed_at}, Operation: {s.operation}\")"
   ]
  },
  {
   "cell_type": "code",
   "execution_count": 41,
   "id": "e5071523",
   "metadata": {},
   "outputs": [
    {
     "name": "stdout",
     "output_type": "stream",
     "text": [
      "+-----------+--------------+-----------+-------+----------------+----------+----------------+\n",
      "|employee_id|name          |department |salary |experience_years|hire_date |experience_level|\n",
      "+-----------+--------------+-----------+-------+----------------+----------+----------------+\n",
      "|1          |Alice Johnson |Engineering|85000.0|3               |2021-03-15|Mid-level       |\n",
      "|2          |Bob Smith     |Marketing  |65000.0|2               |2022-01-10|Mid-level       |\n",
      "|3          |Carol Williams|Engineering|95000.0|5               |2019-08-20|Senior          |\n",
      "|4          |David Brown   |Sales      |55000.0|1               |2023-02-28|Junior          |\n",
      "|5          |Eva Martinez  |Engineering|78000.0|2               |2022-06-01|Mid-level       |\n",
      "|6          |Frank Wilson  |Marketing  |72000.0|4               |2020-11-12|Senior          |\n",
      "|7          |Grace Lee     |Sales      |62000.0|3               |2021-09-05|Mid-level       |\n",
      "|8          |Henry Davis   |Engineering|88000.0|4               |2020-04-18|Senior          |\n",
      "|9          |Ivy Chen      |Marketing  |68000.0|2               |2022-03-22|Mid-level       |\n",
      "|10         |Jack Thompson |Sales      |58000.0|1               |2023-01-15|Junior          |\n",
      "+-----------+--------------+-----------+-------+----------------+----------+----------------+\n",
      "\n"
     ]
    }
   ],
   "source": [
    "\n",
    "#Par snapshot ID\n",
    "\n",
    "snapshots_df = spark.sql(\"\"\"\n",
    "  SELECT * FROM sample_db.employees VERSION AS OF 6006498447171045242;\n",
    "\"\"\")\n",
    "snapshots_df.show(truncate=False)\n",
    "\n",
    "# snapshots_df = spark.sql(\"\"\"\n",
    "#   SELECT * FROM demo.sample_db.employees VERSION AS OF 6006498447171045242;\n",
    "# \"\"\")\n",
    "# snapshots_df.show(truncate=False)\n",
    "\n",
    "\n"
   ]
  },
  {
   "cell_type": "code",
   "execution_count": 42,
   "id": "157aa313",
   "metadata": {},
   "outputs": [
    {
     "name": "stdout",
     "output_type": "stream",
     "text": [
      "+-----------+--------------+-----------+-------+----------------+----------+----------------+\n",
      "|employee_id|name          |department |salary |experience_years|hire_date |experience_level|\n",
      "+-----------+--------------+-----------+-------+----------------+----------+----------------+\n",
      "|1          |Alice Johnson |Engineering|85000.0|3               |2021-03-15|Mid-level       |\n",
      "|2          |Bob Smith     |Marketing  |65000.0|2               |2022-01-10|Mid-level       |\n",
      "|3          |Carol Williams|Engineering|95000.0|5               |2019-08-20|Senior          |\n",
      "|4          |David Brown   |Sales      |55000.0|1               |2023-02-28|Junior          |\n",
      "|5          |Eva Martinez  |Engineering|78000.0|2               |2022-06-01|Mid-level       |\n",
      "|6          |Frank Wilson  |Marketing  |72000.0|4               |2020-11-12|Senior          |\n",
      "|7          |Grace Lee     |Sales      |62000.0|3               |2021-09-05|Mid-level       |\n",
      "|8          |Henry Davis   |Engineering|88000.0|4               |2020-04-18|Senior          |\n",
      "|9          |Ivy Chen      |Marketing  |68000.0|2               |2022-03-22|Mid-level       |\n",
      "|10         |Jack Thompson |Sales      |58000.0|1               |2023-01-15|Junior          |\n",
      "+-----------+--------------+-----------+-------+----------------+----------+----------------+\n",
      "\n"
     ]
    }
   ],
   "source": [
    "#-- Par timestamp\n",
    "#SELECT * FROM demo.sample_db.employees TIMESTAMP AS OF '2025-08-29 19:00:00'\n",
    "\n",
    "snapshots_df = spark.sql(\"\"\"\n",
    "  SELECT * FROM demo.sample_db.employees TIMESTAMP AS OF '2025-08-29 19:31:10.113000';\n",
    "\"\"\")\n",
    "snapshots_df.show(truncate=False)\n"
   ]
  },
  {
   "cell_type": "code",
   "execution_count": 35,
   "id": "865e851b",
   "metadata": {},
   "outputs": [
    {
     "name": "stdout",
     "output_type": "stream",
     "text": [
      "Snapshot ID: 1163501592288989464, Timestamp: 2025-08-29 19:31:10.113000, Operation: append\n",
      "Snapshot ID: 6006498447171045242, Timestamp: 2025-08-29 19:32:11.434000, Operation: append\n"
     ]
    }
   ],
   "source": [
    "snapshots = spark.sql(\"SELECT * FROM demo.sample_db.employees.snapshots\").collect()\n",
    "\n",
    "for s in snapshots:\n",
    "    print(f\"Snapshot ID: {s.snapshot_id}, Timestamp: {s.committed_at}, Operation: {s.operation}\")\n"
   ]
  },
  {
   "cell_type": "code",
   "execution_count": 12,
   "id": "cb689ed4",
   "metadata": {},
   "outputs": [],
   "source": [
    "spark.stop()"
   ]
  }
 ],
 "metadata": {
  "kernelspec": {
   "display_name": "Python 3",
   "language": "python",
   "name": "python3"
  },
  "language_info": {
   "codemirror_mode": {
    "name": "ipython",
    "version": 3
   },
   "file_extension": ".py",
   "mimetype": "text/x-python",
   "name": "python",
   "nbconvert_exporter": "python",
   "pygments_lexer": "ipython3",
   "version": "3.10.16"
  }
 },
 "nbformat": 4,
 "nbformat_minor": 5
}
